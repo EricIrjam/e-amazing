{
 "cells": [
  {
   "cell_type": "markdown",
   "id": "bbe77a7c-04db-4c01-ad33-a42d61b8d52f",
   "metadata": {},
   "source": [
    "# MSPR : e-amazing"
   ]
  },
  {
   "cell_type": "markdown",
   "id": "5c92bcd8-9327-43c6-8c9f-0ce254a9ddc9",
   "metadata": {
    "jp-MarkdownHeadingCollapsed": true
   },
   "source": [
    "## 0. En Amont filtrage de tous les utilisateurs qui se terminent par 1 pour alléger les exécutions par la suite"
   ]
  },
  {
   "cell_type": "code",
   "execution_count": null,
   "id": "7937c10a-50da-44bf-96df-25b849ddd94d",
   "metadata": {},
   "outputs": [],
   "source": [
    "# file_list = [\n",
    "#     'data/2019-Oct.csv',\n",
    "#     'data/2019-Nov.csv',\n",
    "#     'data/2019-Dec.csv',\n",
    "#     'data/2020-Jan.csv',\n",
    "#     'data/2020-Feb.csv',\n",
    "#     'data/2020-Mar.csv',\n",
    "#     'data/2020-Apr.csv'\n",
    "# ]"
   ]
  },
  {
   "cell_type": "code",
   "execution_count": null,
   "id": "ea292803-62ad-491b-9f80-f8c673f778d8",
   "metadata": {},
   "outputs": [],
   "source": [
    "f_list = [spark.read.csv(file, header=True, inferSchema=True) for file in file_list]\n",
    "\n",
    "# Combiner les DataFrames en un seul\n",
    "combined_df = df_list[0]\n",
    "for df in df_list[1:]:\n",
    "    combined_df = combined_df.union(df)\n",
    "\n",
    "# Filtrer les données où user_id se termine par '1'\n",
    "filtered_df = combined_df.filter(combined_df['user_id'].cast(\"string\").endswith('1'))\n",
    "\n",
    "\n",
    "\n",
    "# Spécifiez le chemin où vous voulez sauvegarder le fichier Parquet\n",
    "output_path = \"/home/jovyan/work/filtered_df_output.parquet\"\n",
    "\n",
    "# Enregistrez le DataFrame en Parquet\n",
    "filtered_df.write.mode(\"overwrite\").parquet(output_path)\n",
    "\n",
    "\n",
    "# Afficher quelques lignes du DataFrame filtré\n",
    "filtered_df.show(10, truncate=False)"
   ]
  },
  {
   "cell_type": "code",
   "execution_count": null,
   "id": "f77cbcf0-113d-4dca-8f50-9eccc94437d7",
   "metadata": {},
   "outputs": [],
   "source": [
    "# filtered_df.count()"
   ]
  },
  {
   "cell_type": "code",
   "execution_count": null,
   "id": "cf169b90-b5c5-4a98-908b-f89ce329daad",
   "metadata": {},
   "outputs": [],
   "source": []
  },
  {
   "cell_type": "markdown",
   "id": "fd55488d-c58d-4397-93bd-44c55bacf93c",
   "metadata": {
    "jp-MarkdownHeadingCollapsed": true
   },
   "source": [
    "## 1. Configuration de la session Spark et chargement des données\n"
   ]
  },
  {
   "cell_type": "code",
   "execution_count": 1,
   "id": "1ebc008b-7891-4047-9477-dd8fa74f634c",
   "metadata": {},
   "outputs": [],
   "source": [
    "from pyspark.sql import SparkSession\n",
    "from pyspark.sql.functions import col, coalesce, lit, count, sum, avg, max as spark_max, datediff, when, countDistinct, row_number, round, dayofweek\n",
    "from pyspark.sql.window import Window\n",
    "import pandas as pd"
   ]
  },
  {
   "cell_type": "markdown",
   "id": "112544ee-b747-40e2-8376-535b3bf1efb4",
   "metadata": {},
   "source": [
    "### Créer une session Spark avec des configurations optimisées"
   ]
  },
  {
   "cell_type": "code",
   "execution_count": 2,
   "id": "ee566f90-d0c2-48ce-9db4-7120ce1cac36",
   "metadata": {},
   "outputs": [
    {
     "name": "stderr",
     "output_type": "stream",
     "text": [
      "Setting default log level to \"WARN\".\n",
      "To adjust logging level use sc.setLogLevel(newLevel). For SparkR, use setLogLevel(newLevel).\n",
      "24/06/28 09:23:17 WARN NativeCodeLoader: Unable to load native-hadoop library for your platform... using builtin-java classes where applicable\n"
     ]
    }
   ],
   "source": [
    "spark = SparkSession.builder \\\n",
    "    .appName(\"E-commerce Amazing Analysis\") \\\n",
    "    .config(\"spark.driver.memory\", \"4g\") \\\n",
    "    .config(\"spark.executor.memory\", \"4g\") \\\n",
    "    .config(\"spark.sql.shuffle.partitions\", \"200\") \\\n",
    "    .config(\"spark.driver.cores\", \"2\") \\\n",
    "    .config(\"spark.executor.cores\", \"2\") \\\n",
    "    .config(\"spark.memory.fraction\", \"0.8\") \\\n",
    "    .config(\"spark.memory.storageFraction\", \"0.2\") \\\n",
    "    .config(\"spark.memory.offHeap.enabled\", True) \\\n",
    "    .config(\"spark.memory.offHeap.size\", \"4g\") \\\n",
    "    .getOrCreate()"
   ]
  },
  {
   "cell_type": "markdown",
   "id": "68721106-58cb-410d-9166-6b5a477da9d6",
   "metadata": {},
   "source": [
    "### Lecture du fichier Parquet"
   ]
  },
  {
   "cell_type": "code",
   "execution_count": 3,
   "id": "6808c66a-75e5-46ed-b7d8-590af9793c05",
   "metadata": {},
   "outputs": [
    {
     "name": "stderr",
     "output_type": "stream",
     "text": [
      "                                                                                \r"
     ]
    }
   ],
   "source": [
    "output_path = \"/home/jovyan/work/filtered_df_output.parquet\"\n",
    "filtered_df = spark.read.parquet(output_path)"
   ]
  },
  {
   "cell_type": "markdown",
   "id": "7dab5eb2-3459-4314-998e-4cfc562ecf19",
   "metadata": {},
   "source": [
    "### Conversion du champ event_time en type timestamp"
   ]
  },
  {
   "cell_type": "code",
   "execution_count": 4,
   "id": "91fc3382-8f71-4d5d-9d90-7b1089466aa7",
   "metadata": {},
   "outputs": [],
   "source": [
    "filtered_df = filtered_df.withColumn(\"event_time\", col(\"event_time\").cast(\"timestamp\"))"
   ]
  },
  {
   "cell_type": "markdown",
   "id": "8c8ec3f1-d0c0-4356-949b-988f2c22e061",
   "metadata": {
    "jp-MarkdownHeadingCollapsed": true
   },
   "source": [
    "## 2. Création et chargement des mappings pour category_code et brand\n"
   ]
  },
  {
   "cell_type": "markdown",
   "id": "a9491ba0-de8b-4163-9dc6-008164a510f9",
   "metadata": {},
   "source": [
    "### Extraire les paires uniques product_id, category_id et category_code"
   ]
  },
  {
   "cell_type": "code",
   "execution_count": 5,
   "id": "7c7c5c1f-68fa-4c11-b14d-5912feb023d7",
   "metadata": {},
   "outputs": [],
   "source": [
    "product_category_mapping_df = filtered_df.select(\"product_id\", \"category_id\", \"category_code\").distinct()\n",
    "brand_mapping_df = filtered_df.select(\"product_id\", \"brand\").distinct()"
   ]
  },
  {
   "cell_type": "markdown",
   "id": "a9c48093-1b9b-467a-bf8a-d6402b328edf",
   "metadata": {},
   "source": [
    "### Sauvegarder ces mappings dans des fichiers Parquet pour une utilisation ultérieure"
   ]
  },
  {
   "cell_type": "code",
   "execution_count": 6,
   "id": "b1b4e1d9-0357-4721-a605-3b961a8d27c1",
   "metadata": {},
   "outputs": [
    {
     "name": "stderr",
     "output_type": "stream",
     "text": [
      "                                                                                \r"
     ]
    }
   ],
   "source": [
    "product_category_mapping_output_path = \"/home/jovyan/work/product_category_mapping.parquet\"\n",
    "brand_mapping_output_path = \"/home/jovyan/work/brand_mapping.parquet\"\n",
    "product_category_mapping_df.write.mode(\"overwrite\").parquet(product_category_mapping_output_path)\n",
    "brand_mapping_df.write.mode(\"overwrite\").parquet(brand_mapping_output_path)"
   ]
  },
  {
   "cell_type": "markdown",
   "id": "0819e965-e3b8-4f4c-8552-e642ec2c3b71",
   "metadata": {},
   "source": [
    "### Charger les mappings depuis les fichiers Parquet"
   ]
  },
  {
   "cell_type": "code",
   "execution_count": 7,
   "id": "7cceede5-c479-461f-a520-385757d68672",
   "metadata": {},
   "outputs": [],
   "source": [
    "product_category_mapping_df = spark.read.parquet(product_category_mapping_output_path)\n",
    "brand_mapping_df = spark.read.parquet(brand_mapping_output_path)"
   ]
  },
  {
   "cell_type": "markdown",
   "id": "779a57ce-fc88-410e-bf64-8bd0b430bfad",
   "metadata": {},
   "source": [
    "### Renommer les colonnes dans les DataFrames de mapping pour éviter l'ambiguïté"
   ]
  },
  {
   "cell_type": "code",
   "execution_count": 8,
   "id": "b78e7785-04ce-41b3-a461-f6f82fbb643d",
   "metadata": {},
   "outputs": [],
   "source": [
    "product_category_mapping_df = product_category_mapping_df.withColumnRenamed(\"category_code\", \"mapped_category_code\")\n",
    "brand_mapping_df = brand_mapping_df.withColumnRenamed(\"brand\", \"mapped_brand\")"
   ]
  },
  {
   "cell_type": "markdown",
   "id": "9fef08a9-d497-45c7-9251-d8597f7485ae",
   "metadata": {},
   "source": [
    "### Joindre filtered_df avec product_category_mapping_df et brand_mapping_df pour ajouter les colonnes 'mapped_category_code' et 'mapped_brand'\n"
   ]
  },
  {
   "cell_type": "code",
   "execution_count": 9,
   "id": "25591823-c3f6-4675-b709-49bc50417956",
   "metadata": {},
   "outputs": [],
   "source": [
    "filtered_df_with_mapping = filtered_df.join(product_category_mapping_df, on=\"product_id\", how=\"left\") \\\n",
    "                                      .join(brand_mapping_df, on=\"product_id\", how=\"left\")"
   ]
  },
  {
   "cell_type": "markdown",
   "id": "96f02259-14cb-4b21-9d84-f2fc23e75f34",
   "metadata": {},
   "source": [
    "### Remplacer les valeurs NULL dans 'category_code' et 'brand' par les valeurs correspondantes de la jointure\n"
   ]
  },
  {
   "cell_type": "code",
   "execution_count": 10,
   "id": "b314c3c5-bbed-459f-9b0b-0b17a07a866e",
   "metadata": {},
   "outputs": [],
   "source": [
    "filtered_df = filtered_df_with_mapping.withColumn(\n",
    "    \"category_code\",\n",
    "    coalesce(filtered_df_with_mapping[\"category_code\"], filtered_df_with_mapping[\"mapped_category_code\"])\n",
    ").withColumn(\n",
    "    \"brand\",\n",
    "    coalesce(filtered_df_with_mapping[\"brand\"], filtered_df_with_mapping[\"mapped_brand\"]))"
   ]
  },
  {
   "cell_type": "markdown",
   "id": "50bc4c1f-9d81-4b44-ad77-9cf99114ec3f",
   "metadata": {
    "jp-MarkdownHeadingCollapsed": true
   },
   "source": [
    "## 3. Ajout de colonnes supplémentaires"
   ]
  },
  {
   "cell_type": "markdown",
   "id": "fe074343-31d1-4898-8930-569aca10c6fc",
   "metadata": {},
   "source": [
    "### Ajout des colonnes supplémentaires"
   ]
  },
  {
   "cell_type": "code",
   "execution_count": 11,
   "id": "d7f5563c-33a6-4806-86fe-b01539711848",
   "metadata": {},
   "outputs": [],
   "source": [
    "filtered_df = filtered_df.withColumn(\"event_day_of_week\", dayofweek(col(\"event_time\")))"
   ]
  },
  {
   "cell_type": "markdown",
   "id": "e80ab428-b747-457c-904f-54047dd61206",
   "metadata": {},
   "source": [
    "### Définition des périodes de temps\n"
   ]
  },
  {
   "cell_type": "code",
   "execution_count": 12,
   "id": "1053d4c6-e7b0-4bb6-ba23-c51d16d0bbf3",
   "metadata": {},
   "outputs": [
    {
     "name": "stderr",
     "output_type": "stream",
     "text": [
      "                                                                                \r"
     ]
    }
   ],
   "source": [
    "now = filtered_df.select(spark_max(\"event_time\")).collect()[0][0]\n",
    "last_2_months = now - pd.DateOffset(months=2)\n",
    "last_5_months = now - pd.DateOffset(months=5)\n",
    "last_7_months = now - pd.DateOffset(months=7)"
   ]
  },
  {
   "cell_type": "markdown",
   "id": "5fa0e7c8-88b7-448b-ab03-e0e71d775b70",
   "metadata": {},
   "source": [
    "\n",
    "### Filtrage des données pour chaque période"
   ]
  },
  {
   "cell_type": "code",
   "execution_count": 13,
   "id": "56c9560d-41dd-4c68-a404-9585af85d204",
   "metadata": {},
   "outputs": [],
   "source": [
    "filtered_df_2m = filtered_df.filter(col(\"event_time\") >= lit(last_2_months))\n",
    "filtered_df_5m = filtered_df.filter(col(\"event_time\") >= lit(last_5_months))\n",
    "filtered_df_7m = filtered_df.filter(col(\"event_time\") >= lit(last_7_months))\n"
   ]
  },
  {
   "cell_type": "markdown",
   "id": "216b9b24-bf48-409a-b80d-6dbf5eb6169a",
   "metadata": {
    "jp-MarkdownHeadingCollapsed": true
   },
   "source": [
    "## 4. Calcul des statistiques par utilisateur et période\n"
   ]
  },
  {
   "cell_type": "markdown",
   "id": "1ce56d95-4b62-4f8f-ab19-19bde892ff23",
   "metadata": {},
   "source": [
    "### Fonction pour calculer les statistiques par utilisateur et périodes écoulées\n"
   ]
  },
  {
   "cell_type": "code",
   "execution_count": 14,
   "id": "d53f6728-a2f4-4de8-97ed-7736e358241a",
   "metadata": {},
   "outputs": [],
   "source": [
    "def compute_user_stats(df, period):\n",
    "    views = df.filter(col(\"event_type\") == \"view\").groupBy(\"user_id\").agg(count(\"*\").alias(f\"number_of_views_{period}\"))\n",
    "    carts = df.filter(col(\"event_type\") == \"cart\").groupBy(\"user_id\").agg(count(\"*\").alias(f\"number_of_carts_{period}\"))\n",
    "    sessions = df.groupBy(\"user_id\").agg(countDistinct(\"user_session\").alias(f\"number_of_sessions_{period}\"))\n",
    "    purchases = df.filter(col(\"event_type\") == \"purchase\").groupBy(\"user_id\").agg(\n",
    "        count(\"*\").alias(f\"count_products_{period}\"),\n",
    "        round(avg(\"price\"), 2).alias(f\"avg_price_{period}\")\n",
    "    )\n",
    "    return views.join(carts, \"user_id\").join(sessions, \"user_id\").join(purchases, \"user_id\")\n",
    "\n"
   ]
  },
  {
   "cell_type": "markdown",
   "id": "fa90932b-b597-461b-aa18-1eccbaa220ef",
   "metadata": {},
   "source": [
    "### Calcul des statistiques pour chaque période"
   ]
  },
  {
   "cell_type": "code",
   "execution_count": 15,
   "id": "28470507-adcd-4878-89af-fd48b364f0ff",
   "metadata": {},
   "outputs": [],
   "source": [
    "stats_2m = compute_user_stats(filtered_df_2m, \"2m\")\n",
    "stats_5m = compute_user_stats(filtered_df_5m, \"5m\")\n",
    "stats_7m = compute_user_stats(filtered_df_7m, \"7m\")\n"
   ]
  },
  {
   "cell_type": "markdown",
   "id": "abb03033-6908-4767-859b-30703539e047",
   "metadata": {},
   "source": [
    "### Union des statistiques pour les différentes périodes"
   ]
  },
  {
   "cell_type": "code",
   "execution_count": 16,
   "id": "f9d715cc-f431-4257-9ed7-b49a0b2a3357",
   "metadata": {},
   "outputs": [],
   "source": [
    "stats_all = stats_2m.join(stats_5m, \"user_id\").join(stats_7m, \"user_id\")"
   ]
  },
  {
   "cell_type": "markdown",
   "id": "2982f8ac-6436-4933-bc67-d8def8911ddc",
   "metadata": {
    "jp-MarkdownHeadingCollapsed": true
   },
   "source": [
    "## 5. Calcul des autres statistiques"
   ]
  },
  {
   "cell_type": "markdown",
   "id": "330d281b-7606-41bc-af4d-e628943d61a2",
   "metadata": {},
   "source": [
    "### Calcul des autres statistiques"
   ]
  },
  {
   "cell_type": "code",
   "execution_count": 17,
   "id": "84433126-b558-41dc-8c6d-ce8013f135f7",
   "metadata": {},
   "outputs": [],
   "source": [
    "last_purchase = filtered_df.filter(col(\"event_type\") == \"purchase\").groupBy(\"user_id\").agg(spark_max(\"event_time\").alias(\"last_purchase\"))\n",
    "days_since_last_purchase = last_purchase.withColumn(\"days_since_last_purchase\", datediff(lit(now), col(\"last_purchase\")))\n",
    "\n",
    "total_purchase_value = filtered_df.filter(col(\"event_type\") == \"purchase\").groupBy(\"user_id\").agg(round(sum(\"price\"), 2).alias(\"total_purchase_value\"))"
   ]
  },
  {
   "cell_type": "markdown",
   "id": "31945c8a-77ce-466a-acfd-cb03d9d36aba",
   "metadata": {},
   "source": [
    "### Calcul des abandons de panier\n"
   ]
  },
  {
   "cell_type": "code",
   "execution_count": 18,
   "id": "df6ab545-120a-4449-8eca-a44d1b67726f",
   "metadata": {},
   "outputs": [],
   "source": [
    "cart_abandonments = filtered_df.groupBy(\"user_id\").agg(\n",
    "    (count(when(col(\"event_type\") == \"cart\", True)) - count(when(col(\"event_type\") == \"purchase\", True))).alias(\"cart_abandonments\")\n",
    ")"
   ]
  },
  {
   "cell_type": "markdown",
   "id": "7d4f4711-5494-4d5d-923a-29b96a4b8140",
   "metadata": {
    "jp-MarkdownHeadingCollapsed": true
   },
   "source": [
    "## 6. Calcul de la fidélité à une marque\n"
   ]
  },
  {
   "cell_type": "markdown",
   "id": "65d7cf59-4edb-418d-a11b-9354c103e0f5",
   "metadata": {},
   "source": [
    "### Calcul de la fidélité à une marque"
   ]
  },
  {
   "cell_type": "code",
   "execution_count": 19,
   "id": "6ea47c6e-c62b-4f35-bd2c-b9cc1a196d3a",
   "metadata": {},
   "outputs": [],
   "source": [
    "\n",
    "total_purchases_by_user = filtered_df.filter(col(\"event_type\") == \"purchase\").groupBy(\"user_id\").agg(count(\"*\").alias(\"total_purchases\"))\n",
    "brand_purchases_by_user = filtered_df.filter(col(\"event_type\") == \"purchase\").groupBy(\"user_id\", \"brand\").agg(count(\"*\").alias(\"brand_purchases\"))\n"
   ]
  },
  {
   "cell_type": "markdown",
   "id": "34058c42-26a6-4a69-a61b-b2b72c7977b7",
   "metadata": {},
   "source": [
    "### Déterminer la marque la plus achetée par chaque utilisateur\n"
   ]
  },
  {
   "cell_type": "code",
   "execution_count": 20,
   "id": "dacce236-097f-4d68-95fb-8986481d63a4",
   "metadata": {},
   "outputs": [],
   "source": [
    "window_spec = Window.partitionBy(\"user_id\").orderBy(col(\"brand_purchases\").desc())\n",
    "most_purchased_brand = brand_purchases_by_user.withColumn(\"rank\", row_number().over(window_spec)).filter(col(\"rank\") == 1).drop(\"rank\")"
   ]
  },
  {
   "cell_type": "markdown",
   "id": "ff7e3424-4660-43c5-bc7c-81a76d9aee77",
   "metadata": {},
   "source": [
    "\n",
    "### Calcul de la fidélité"
   ]
  },
  {
   "cell_type": "code",
   "execution_count": 21,
   "id": "cca1e3f1-1e24-4880-b0b2-302fab21691c",
   "metadata": {},
   "outputs": [],
   "source": [
    "brand_loyalty = most_purchased_brand.join(total_purchases_by_user, \"user_id\").withColumn(\"brand_loyalty\", round(col(\"brand_purchases\") / col(\"total_purchases\"), 2))\n"
   ]
  },
  {
   "cell_type": "markdown",
   "id": "6fa889cb-d02e-486d-9747-332180d1352c",
   "metadata": {
    "jp-MarkdownHeadingCollapsed": true
   },
   "source": [
    "## 7. Détermination de la catégorie la plus achetée\n"
   ]
  },
  {
   "cell_type": "markdown",
   "id": "d2749133-3409-4be2-9075-a42b2b343b07",
   "metadata": {},
   "source": [
    "### Déterminer la catégorie la plus achetée par chaque utilisateur"
   ]
  },
  {
   "cell_type": "code",
   "execution_count": 22,
   "id": "d8bde950-5c2a-48bf-bf41-71929b629247",
   "metadata": {},
   "outputs": [],
   "source": [
    "category_purchases_by_user = filtered_df.filter(col(\"event_type\") == \"purchase\").groupBy(\"user_id\", \"category_code\").agg(count(\"*\").alias(\"category_purchases\"))\n",
    "most_purchased_category = category_purchases_by_user.withColumn(\"rank\", row_number().over(Window.partitionBy(\"user_id\").orderBy(col(\"category_purchases\").desc()))).filter(col(\"rank\") == 1).drop(\"rank\")\n"
   ]
  },
  {
   "cell_type": "markdown",
   "id": "c21f34f7-835b-4f87-98db-c8c02422c9b0",
   "metadata": {
    "jp-MarkdownHeadingCollapsed": true
   },
   "source": [
    "## 8. Jointure de toutes les statistiques et préparation des résultats finaux"
   ]
  },
  {
   "cell_type": "markdown",
   "id": "f7a6583f-c2b0-43ff-810e-944dd8d0b60c",
   "metadata": {},
   "source": [
    "### Joindre toutes les statistiques"
   ]
  },
  {
   "cell_type": "code",
   "execution_count": 23,
   "id": "d859591c-a693-44ae-baaa-08ab216cd437",
   "metadata": {},
   "outputs": [],
   "source": [
    "\n",
    "user_stats_df = stats_all.join(days_since_last_purchase, \"user_id\") \\\n",
    "    .join(total_purchase_value, \"user_id\") \\\n",
    "    .join(cart_abandonments, \"user_id\") \\\n",
    "    .join(brand_loyalty.select(\"user_id\", \"brand_loyalty\", \"brand\"), \"user_id\", \"left\") \\\n",
    "    .join(most_purchased_category.select(\"user_id\", \"category_code\"), \"user_id\", \"left\") \\\n",
    "    .select(\"user_id\", \n",
    "            \"number_of_views_2m\", \"number_of_views_5m\", \"number_of_views_7m\", \n",
    "            \"number_of_carts_2m\", \"number_of_carts_5m\", \"number_of_carts_7m\", \n",
    "            \"number_of_sessions_2m\", \"number_of_sessions_5m\", \"number_of_sessions_7m\", \n",
    "            \"count_products_2m\", \"count_products_5m\", \"count_products_7m\", \n",
    "            \"avg_price_2m\", \"avg_price_5m\", \"avg_price_7m\", \n",
    "            \"total_purchase_value\", \"days_since_last_purchase\", \"cart_abandonments\",\n",
    "            \"brand_loyalty\", \"brand\", \"category_code\")\n"
   ]
  },
  {
   "cell_type": "markdown",
   "id": "77264e80-74d4-484f-b591-e095b9090784",
   "metadata": {},
   "source": [
    "### Renommer les colonnes pour les préférences"
   ]
  },
  {
   "cell_type": "code",
   "execution_count": 24,
   "id": "9f57b4d7-ac23-4ac9-b75f-5235c1cab740",
   "metadata": {},
   "outputs": [],
   "source": [
    "user_stats_df = user_stats_df.withColumnRenamed(\"brand\", \"preferred_brand\") \\\n",
    "                             .withColumnRenamed(\"category_code\", \"preferred_category\")"
   ]
  },
  {
   "cell_type": "markdown",
   "id": "41895c1e-8cd4-4f26-b528-f66154998f60",
   "metadata": {},
   "source": [
    "### Remplacer les valeurs NULL dans 'preferred_brand' et 'preferred_category' par des valeurs par défaut"
   ]
  },
  {
   "cell_type": "code",
   "execution_count": 25,
   "id": "68b41a4d-61ac-49ee-8ab5-6f54ccf43e04",
   "metadata": {},
   "outputs": [],
   "source": [
    "user_stats_df = user_stats_df.withColumn(\"preferred_brand\", coalesce(col(\"preferred_brand\"), lit(\"No Brand\"))) \\\n",
    "                             .withColumn(\"preferred_category\", coalesce(col(\"preferred_category\"), lit(\"No Category\")))"
   ]
  },
  {
   "cell_type": "markdown",
   "id": "cc81ac49-3c89-460d-b91c-93ec55ffe2d6",
   "metadata": {},
   "source": [
    "### Définir des segments d'utilisateurs basés sur la valeur totale des achats"
   ]
  },
  {
   "cell_type": "code",
   "execution_count": 26,
   "id": "bf8369dd-c1c6-4669-9c73-e29dd8f6d438",
   "metadata": {},
   "outputs": [],
   "source": [
    "user_stats_df = user_stats_df.withColumn(\"user_segment\", \n",
    "                                         when(col(\"total_purchase_value\") > 1000, \"High\").\n",
    "                                         when((col(\"total_purchase_value\") <= 1000) & (col(\"total_purchase_value\") > 500), \"Medium\").\n",
    "                                         otherwise(\"Low\"))"
   ]
  },
  {
   "cell_type": "markdown",
   "id": "f18b7eff-f5b6-4334-907a-8571eeb6f6c5",
   "metadata": {},
   "source": [
    "### Affichage du DataFrame final"
   ]
  },
  {
   "cell_type": "code",
   "execution_count": 27,
   "id": "989ec7f2-7fbf-4eb2-a65f-cc28e29cb524",
   "metadata": {},
   "outputs": [],
   "source": [
    "# user_stats_df.show()"
   ]
  },
  {
   "cell_type": "markdown",
   "id": "3fc91cd8-c1ce-4969-81d5-a453b816c15f",
   "metadata": {
    "jp-MarkdownHeadingCollapsed": true
   },
   "source": [
    "## 9. Enregistrement et sauvegarde de user_stats_df"
   ]
  },
  {
   "cell_type": "markdown",
   "id": "1ded623a-671d-4bcf-b5d4-68397c2b0a3d",
   "metadata": {},
   "source": [
    "### Enregistrer et sauvegarder le DataFrame final dans un fichier Parquet"
   ]
  },
  {
   "cell_type": "code",
   "execution_count": 28,
   "id": "c6dbf3ec-5a66-4128-9f51-2bbcbe2cadde",
   "metadata": {},
   "outputs": [
    {
     "name": "stderr",
     "output_type": "stream",
     "text": [
      "                                                                                \r"
     ]
    }
   ],
   "source": [
    "user_stats_output_path = \"/home/jovyan/work/user_stats_df_output.parquet\"\n",
    "user_stats_df.write.mode(\"overwrite\").parquet(user_stats_output_path)\n"
   ]
  },
  {
   "cell_type": "markdown",
   "id": "7732202f-cd88-4395-aaf4-549ff98b885d",
   "metadata": {},
   "source": [
    "# Analyse "
   ]
  },
  {
   "cell_type": "markdown",
   "id": "05ed003e-15f8-4056-9fba-504670f9091a",
   "metadata": {},
   "source": [
    "## Descriptive des colonnes"
   ]
  },
  {
   "cell_type": "markdown",
   "id": "2eed89c5-e8db-47e6-af85-2184f3f1ada9",
   "metadata": {},
   "source": [
    "\n",
    "\n",
    "**user_id :** Identifiant unique de chaque utilisateur. \n",
    "\n",
    "**number_of_views_2m, number_of_views_5m, number_of_views_7m :**\n",
    "\n",
    "**number_of_views_2m** : Nombre de fois qu'un utilisateur a consulté des produits au cours des 2 derniers mois.\n",
    "\n",
    "**number_of_views_5m** : Nombre de fois qu'un utilisateur a consulté des produits au cours des 5 derniers mois.\n",
    "\n",
    "**number_of_views_7m** : Nombre de fois qu'un utilisateur a consulté des produits au cours des 7 derniers mois.\n",
    "\n",
    "**number_of_carts_2m**, number_of_carts_5m, number_of_carts_7m :\n",
    "\n",
    "**number_of_carts_2m** : Nombre de produits ajoutés au panier par un utilisateur au cours des 2 derniers mois.\n",
    "\n",
    "**number_of_carts_5m** : Nombre de produits ajoutés au panier par un utilisateur au cours des 5 derniers mois.\n",
    "\n",
    "**number_of_carts_7m** : Nombre de produits ajoutés au panier par un utilisateur au cours des 7 derniers mois.\n",
    "\n",
    "**number_of_sessions_2m, number_of_sessions_5m, number_of_sessions_7m :**\n",
    "\n",
    "**number_of_sessions_2m**: Nombre de sessions de navigation d'un utilisateur au cours des 2 derniers mois.\n",
    "\n",
    "**number_of_sessions_5m** : Nombre de sessions de navigation d'un utilisateur au cours des 5 derniers mois.\n",
    "\n",
    "**number_of_sessions_7m** : Nombre de sessions de navigation d'un utilisateur au cours des 7 derniers mois.\n",
    "\n",
    "**count_products_2m, count_products_5m, count_products_7m :**\n",
    "\n",
    "**count_products_2m** : Nombre de produits achetés par un utilisateur au cours des 2 derniers mois.\n",
    "\n",
    "**count_products_5m** : Nombre de produits achetés par un utilisateur au cours des 5 derniers mois.\n",
    "\n",
    "**count_products_7m** : Nombre de produits achetés par un utilisateur au cours des 7 derniers mois.\n",
    "\n",
    "**avg_price_2m, avg_price_5m, avg_price_7m :**\n",
    "\n",
    "**avg_price_2m** : Prix moyen des produits achetés par un utilisateur au cours des 2 derniers mois.\n",
    "\n",
    "**avg_price_5m**: Prix moyen des produits achetés par un utilisateur au cours des 5 derniers mois.\n",
    "\n",
    "**avg_price_7m** : Prix moyen des produits achetés par un utilisateur au cours des 7 derniers mois.\n",
    "\n",
    "**total_purchase_value** : Valeur totale des achats effectués par un utilisateur sur l'ensemble de la période considérée.\n",
    "\n",
    "**days_since_last_purchase** : Nombre de jours écoulés depuis le dernier achat de l'utilisateur.\n",
    "\n",
    "**cart_abandonments**: Nombre de produits ajoutés au panier mais non achetés par un utilisateur. Cela mesure les abandons de panier, **indiquant des intentions d'achat non réalisées**.\n",
    "\n",
    "**brand_loyalty** : Fidélité à une marque spécifique. Cette métrique est calculée comme la proportion des achats effectués auprès de la marque la plus fréquemment achetée par rapport au total des achats de l'utilisateur.\n",
    "\n",
    "**preferred_brand** : Marque la plus fréquemment achetée par un utilisateur. S'il n'y a pas de données d'achat pour déterminer une marque préférée, la valeur par défaut est **\"No Brand\"**.\n",
    "\n",
    "**preferred_category** : Catégorie de produit la plus fréquemment achetée par un utilisateur. S'il n'y a pas de données d'achat pour déterminer une catégorie préférée, la valeur par défaut est **\"No Category\"** .\n",
    "\n",
    "\n",
    "\n",
    "BUT des méthodes à utilisée : K-means, KNN, random forest ?\n",
    "**user_segment**: Segment d'utilisateur basé sur la valeur totale des achats. Il peut être catégorisé en :\n",
    "\n",
    "- High : Utilisateurs dont la valeur totale des achats est supérieure à 1000.\n",
    "\n",
    "- Medium : Utilisateurs dont la valeur totale des achats est entre 500 et 1000.\n",
    "  \n",
    "- Low : Utilisateurs dont la valeur totale des achats est inférieure à 500."
   ]
  },
  {
   "cell_type": "code",
   "execution_count": 1,
   "id": "682c7f88-6ea3-489e-bbf3-1269ce084c30",
   "metadata": {},
   "outputs": [
    {
     "name": "stdout",
     "output_type": "stream",
     "text": [
      "     user_id  number_of_views_2m  number_of_carts_2m  number_of_sessions_2m  \\\n",
      "0  359242441                  75                   4                      9   \n",
      "1  438263431                 138                   4                     46   \n",
      "2  469107971                   2                   1                      1   \n",
      "3  472393541                   4                   1                      2   \n",
      "4  478219391                  16                   8                      4   \n",
      "\n",
      "   count_products_2m  avg_price_2m  number_of_views_5m  number_of_carts_5m  \\\n",
      "0                  1         56.63                  75                   4   \n",
      "1                  3         81.70                 324                   5   \n",
      "2                  1        229.50                   2                   1   \n",
      "3                  1        408.66                   9                   1   \n",
      "4                  1        254.58                  28                   9   \n",
      "\n",
      "   number_of_sessions_5m  count_products_5m  ...  count_products_7m  \\\n",
      "0                      9                  1  ...                  1   \n",
      "1                    123                  4  ...                  4   \n",
      "2                      1                  1  ...                  1   \n",
      "3                      4                  1  ...                  1   \n",
      "4                      6                  1  ...                  1   \n",
      "\n",
      "   avg_price_7m       last_purchase  days_since_last_purchase  \\\n",
      "0         56.63 2020-04-11 08:08:14                        19   \n",
      "1        173.74 2020-04-19 18:41:51                        11   \n",
      "2        229.50 2020-04-25 13:48:42                         5   \n",
      "3        408.66 2020-03-17 10:00:04                        44   \n",
      "4        254.58 2020-04-24 12:47:54                         6   \n",
      "\n",
      "   total_purchase_value  cart_abandonments preferred_brand  \\\n",
      "0                 56.63                  3         tp-link   \n",
      "1                694.95                  1        aerocool   \n",
      "2                229.50                  0            None   \n",
      "3                408.66                  0           apple   \n",
      "4                254.58                  8         samsung   \n",
      "\n",
      "         preferred_category  most_active_time  most_active_day  \n",
      "0   furniture.kitchen.table           morning         vendredi  \n",
      "1                      None         afternoon           samedi  \n",
      "2                      None         afternoon           samedi  \n",
      "3  construction.tools.light           morning            mardi  \n",
      "4     apparel.shoes.slipons           morning            lundi  \n",
      "\n",
      "[5 rows x 24 columns]\n"
     ]
    }
   ],
   "source": [
    "import pandas as pd\n",
    "\n",
    "# Définir le chemin du fichier Parquet\n",
    "user_stats_input_path = \"data/user_stats_df_output.parquet\"\n",
    "\n",
    "# Lire le fichier Parquet en utilisant pandas\n",
    "user_stats_df = pd.read_parquet(user_stats_input_path, engine='pyarrow')\n",
    "\n",
    "# Afficher les premières lignes du DataFrame pour vérifier la lecture\n",
    "print(user_stats_df.head())\n"
   ]
  },
  {
   "cell_type": "code",
   "execution_count": 2,
   "id": "a4759bb2-4715-4069-bdff-9dc49c7b07a8",
   "metadata": {},
   "outputs": [
    {
     "data": {
      "text/plain": [
       "(84864, 24)"
      ]
     },
     "execution_count": 2,
     "metadata": {},
     "output_type": "execute_result"
    }
   ],
   "source": [
    "user_stats_df.shape"
   ]
  },
  {
   "cell_type": "code",
   "execution_count": 11,
   "id": "9382e2ca-dc23-45c9-b62c-cbc4d103ecb2",
   "metadata": {},
   "outputs": [
    {
     "data": {
      "text/plain": [
       "84864"
      ]
     },
     "execution_count": 11,
     "metadata": {},
     "output_type": "execute_result"
    }
   ],
   "source": [
    "user_stats_df['user_id'].nunique()"
   ]
  },
  {
   "cell_type": "code",
   "execution_count": null,
   "id": "3fc830ce-65c1-458e-b51c-c403a929c2cd",
   "metadata": {},
   "outputs": [],
   "source": []
  }
 ],
 "metadata": {
  "kernelspec": {
   "display_name": "Python 3 (ipykernel)",
   "language": "python",
   "name": "python3"
  },
  "language_info": {
   "codemirror_mode": {
    "name": "ipython",
    "version": 3
   },
   "file_extension": ".py",
   "mimetype": "text/x-python",
   "name": "python",
   "nbconvert_exporter": "python",
   "pygments_lexer": "ipython3",
   "version": "3.9.2"
  }
 },
 "nbformat": 4,
 "nbformat_minor": 5
}
