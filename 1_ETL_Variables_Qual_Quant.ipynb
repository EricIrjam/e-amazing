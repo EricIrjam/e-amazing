{
 "cells": [
  {
   "cell_type": "code",
   "execution_count": 14,
   "metadata": {},
   "outputs": [],
   "source": [
    "from pyspark.sql import SparkSession\n",
    "from pyspark.sql.functions import col, when, lit, count, countDistinct, avg, sum, max as spark_max, round, dayofweek, hour, row_number, datediff\n",
    "from pyspark.sql import Window\n",
    "from pyspark import StorageLevel\n",
    "import pandas as pd"
   ]
  },
  {
   "cell_type": "code",
   "execution_count": 15,
   "metadata": {},
   "outputs": [],
   "source": [
    "# Initialisation de la session Spark\n",
    "spark = SparkSession.builder \\\n",
    "    .appName(\"E-Amazing Data Processing\") \\\n",
    "    .config(\"spark.driver.memory\", \"2g\") \\\n",
    "    .config(\"spark.memory.fraction\", \"0.6\") \\\n",
    "    .getOrCreate()"
   ]
  },
  {
   "cell_type": "code",
   "execution_count": 16,
   "metadata": {},
   "outputs": [],
   "source": [
    "\n",
    "# Définir le chemin des fichiers\n",
    "output_path = \"./data/filtered_df_output.parquet\""
   ]
  },
  {
   "cell_type": "code",
   "execution_count": 17,
   "metadata": {},
   "outputs": [],
   "source": [
    "\n",
    "# Fonction de lecture du fichier Parquet et conversion de la colonne event_time\n",
    "def load_and_prepare_data(path):\n",
    "    df = spark.read.parquet(path)\n",
    "    return df.withColumn(\"event_time\", col(\"event_time\").cast(\"timestamp\"))"
   ]
  },
  {
   "cell_type": "code",
   "execution_count": 18,
   "metadata": {},
   "outputs": [],
   "source": [
    "\n",
    "# Fonction d'ajout de colonnes supplémentaires\n",
    "def add_additional_columns(df):\n",
    "    return df.withColumn(\"event_day_of_week\", dayofweek(col(\"event_time\"))) \\\n",
    "             .withColumn(\"event_hour\", hour(col(\"event_time\")))"
   ]
  },
  {
   "cell_type": "code",
   "execution_count": 19,
   "metadata": {},
   "outputs": [],
   "source": [
    "# Fonction de calcul des statistiques par utilisateur et période\n",
    "def compute_user_stats(df, period):\n",
    "    views = df.filter(col(\"event_type\") == \"view\").groupBy(\"user_id\").agg(count(\"*\").alias(f\"number_of_views_{period}\"))\n",
    "    carts = df.filter(col(\"event_type\") == \"cart\").groupBy(\"user_id\").agg(count(\"*\").alias(f\"number_of_carts_{period}\"))\n",
    "    sessions = df.groupBy(\"user_id\").agg(countDistinct(\"user_session\").alias(f\"number_of_sessions_{period}\"))\n",
    "    purchases = df.filter(col(\"event_type\") == \"purchase\").groupBy(\"user_id\").agg(\n",
    "        count(\"*\").alias(f\"count_products_{period}\"),\n",
    "        round(avg(\"price\"), 2).alias(f\"avg_price_{period}\")\n",
    "    )\n",
    "    return views.join(carts, \"user_id\").join(sessions, \"user_id\").join(purchases, \"user_id\")"
   ]
  },
  {
   "cell_type": "code",
   "execution_count": 20,
   "metadata": {},
   "outputs": [],
   "source": [
    "# Fonction pour calculer les autres statistiques\n",
    "def compute_other_stats(df, now):\n",
    "    last_purchase = df.filter(col(\"event_type\") == \"purchase\").groupBy(\"user_id\").agg(spark_max(\"event_time\").alias(\"last_purchase\"))\n",
    "    days_since_last_purchase = last_purchase.withColumn(\"days_since_last_purchase\", datediff(lit(now), col(\"last_purchase\")))\n",
    "\n",
    "    total_purchase_value = df.filter(col(\"event_type\") == \"purchase\").groupBy(\"user_id\").agg(round(sum(\"price\"), 2).alias(\"total_purchase_value\"))\n",
    "\n",
    "    # Calcul des abandons de panier (cart abandonments)\n",
    "    cart_events = df.filter(col(\"event_type\") == \"cart\").groupBy(\"user_id\").agg(count(\"*\").alias(\"cart_count\"))\n",
    "    purchase_events = df.filter(col(\"event_type\") == \"purchase\").groupBy(\"user_id\").agg(count(\"*\").alias(\"purchase_count\"))\n",
    "\n",
    "    cart_abandonments = cart_events.join(purchase_events, \"user_id\", \"left\") \\\n",
    "                                   .withColumn(\"cart_abandonments\", when(col(\"cart_count\") > col(\"purchase_count\"), col(\"cart_count\") - col(\"purchase_count\")).otherwise(0)) \\\n",
    "                                   .select(\"user_id\", \"cart_abandonments\")\n",
    "\n",
    "    return days_since_last_purchase, total_purchase_value, cart_abandonments"
   ]
  },
  {
   "cell_type": "code",
   "execution_count": 21,
   "metadata": {},
   "outputs": [],
   "source": [
    "\n",
    "# Fonction pour déterminer les préférences (marque et catégorie) et le moment d'activité\n",
    "def compute_user_preferences_and_activity(df):\n",
    "    # Déterminer la marque la plus achetée par chaque utilisateur (preferred_brand)\n",
    "    window_spec_brand = Window.partitionBy(\"user_id\").orderBy(col(\"brand_purchases\").desc())\n",
    "    most_purchased_brand = df.filter(col(\"event_type\") == \"purchase\").groupBy(\"user_id\", \"brand\").agg(count(\"*\").alias(\"brand_purchases\")) \\\n",
    "                             .withColumn(\"rank\", row_number().over(window_spec_brand)).filter(col(\"rank\") == 1).drop(\"rank\").select(\"user_id\", col(\"brand\").alias(\"preferred_brand\").cast(\"string\"))\n",
    "\n",
    "    # Déterminer la catégorie la plus achetée par chaque utilisateur (preferred_category)\n",
    "    window_spec_category = Window.partitionBy(\"user_id\").orderBy(col(\"category_purchases\").desc())\n",
    "    most_purchased_category = df.filter(col(\"event_type\") == \"purchase\").groupBy(\"user_id\", \"category_code\").agg(count(\"*\").alias(\"category_purchases\")) \\\n",
    "                                .withColumn(\"rank\", row_number().over(window_spec_category)).filter(col(\"rank\") == 1).drop(\"rank\").select(\"user_id\", col(\"category_code\").alias(\"preferred_category\").cast(\"string\"))\n",
    "\n",
    "    # Calcul du moment d'activité le plus fréquent (most_active_time)\n",
    "    most_active_time = df.withColumn(\"time_of_day\",\n",
    "        when(col(\"event_hour\").between(5, 12), \"morning\")\n",
    "        .when(col(\"event_hour\").between(12, 17), \"afternoon\")\n",
    "        .when(col(\"event_hour\").between(18, 23), \"evening\")\n",
    "        .otherwise(\"night\")\n",
    "    )\\\n",
    "    .groupBy(\"user_id\", \"time_of_day\").agg(count(\"*\").alias(\"time_activity\")) \\\n",
    "    .withColumn(\"rank\", row_number().over(Window.partitionBy(\"user_id\").orderBy(col(\"time_activity\").desc()))) \\\n",
    "    .filter(col(\"rank\") == 1).drop(\"rank\")\\\n",
    "    .select(\"user_id\", col(\"time_of_day\").alias(\"most_active_time\").cast(\"string\")) \n",
    "\n",
    "    # Calcul du jour le plus actif (most_active_day)\n",
    "    most_active_day = df.groupBy(\"user_id\", \"event_day_of_week\")\\\n",
    "                        .agg(count(\"*\").alias(\"day_activity\")) \\\n",
    "                        .withColumn(\"rank\", row_number().over(Window.partitionBy(\"user_id\").orderBy(col(\"day_activity\").desc()))) \\\n",
    "                        .filter(col(\"rank\") == 1).drop(\"rank\")\\\n",
    "                        .select(\"user_id\", col(\"event_day_of_week\").alias(\"most_active_day\"))\n",
    "\n",
    "    # Mapping des jours de la semaine\n",
    "    most_active_day = most_active_day.withColumn(\n",
    "        \"most_active_day\",\n",
    "        when(col(\"most_active_day\") == 1, \"dimanche\")\n",
    "        .when(col(\"most_active_day\") == 2, \"lundi\")\n",
    "        .when(col(\"most_active_day\") == 3, \"mardi\")\n",
    "        .when(col(\"most_active_day\") == 4, \"mercredi\")\n",
    "        .when(col(\"most_active_day\") == 5, \"jeudi\")\n",
    "        .when(col(\"most_active_day\") == 6, \"vendredi\")\n",
    "        .when(col(\"most_active_day\") == 7, \"samedi\")\n",
    "    )\n",
    "    \n",
    "    return most_purchased_brand, most_purchased_category, most_active_time, most_active_day"
   ]
  },
  {
   "cell_type": "code",
   "execution_count": 22,
   "metadata": {},
   "outputs": [],
   "source": [
    "\n",
    "\n",
    "# Fonction principale de traitement\n",
    "def main():\n",
    "    # Chargement et préparation des données\n",
    "    filtered_df = load_and_prepare_data(output_path)\n",
    "    \n",
    "    # Ajout de colonnes supplémentaires\n",
    "    filtered_df = add_additional_columns(filtered_df)\n",
    "\n",
    "    # Définir les périodes de temps\n",
    "    now = filtered_df.select(spark_max(\"event_time\")).collect()[0][0]\n",
    "    last_2_months = now - pd.DateOffset(months=2)\n",
    "    last_5_months = now - pd.DateOffset(months=5)\n",
    "    last_7_months = now - pd.DateOffset(months=7)\n",
    "\n",
    "    # Filtrer les données pour chaque période\n",
    "    filtered_df_2m = filtered_df.filter(col(\"event_time\") >= lit(last_2_months))\n",
    "    filtered_df_5m = filtered_df.filter(col(\"event_time\") >= lit(last_5_months))\n",
    "    filtered_df_7m = filtered_df.filter(col(\"event_time\") >= lit(last_7_months))\n",
    "\n",
    "    # Calculer les statistiques pour chaque période\n",
    "    stats_2m = compute_user_stats(filtered_df_2m, \"2m\")\n",
    "    stats_5m = compute_user_stats(filtered_df_5m, \"5m\")\n",
    "    stats_7m = compute_user_stats(filtered_df_7m, \"7m\")\n",
    "\n",
    "    # Union des statistiques pour les différentes périodes\n",
    "    stats_all = stats_2m.join(stats_5m, \"user_id\").join(stats_7m, \"user_id\")\n",
    "\n",
    "    # Calculer les autres statistiques\n",
    "    days_since_last_purchase, total_purchase_value, cart_abandonments = compute_other_stats(filtered_df, now)\n",
    "\n",
    "    # Calculer les préférences (marque, catégorie) et les moments d'activité\n",
    "    preferred_brand, preferred_category, most_active_time, most_active_day = compute_user_preferences_and_activity(filtered_df)\n",
    "\n",
    "    # Finaliser et combiner les résultats\n",
    "    user_stats_df = stats_all.join(days_since_last_purchase, \"user_id\") \\\n",
    "                             .join(total_purchase_value, \"user_id\") \\\n",
    "                             .join(cart_abandonments, \"user_id\", \"left\") \\\n",
    "                             .join(preferred_brand, \"user_id\", \"left\") \\\n",
    "                             .join(preferred_category, \"user_id\", \"left\") \\\n",
    "                             .join(most_active_time, \"user_id\", \"left\") \\\n",
    "                             .join(most_active_day, \"user_id\", \"left\")\n",
    "\n",
    "    # Affichage du DataFrame final\n",
    "    user_stats_df.show()\n",
    "\n",
    "    # # Affichage du nombre de lignes et de colonnes du DataFrame\n",
    "    # print(f\"Nombre de lignes : {user_stats_df.count()}\")\n",
    "    # print(f\"Nombre de colonnes : {len(user_stats_df.columns)}\")\n",
    "\n",
    "# Enregistrer le DataFrame final en format Parquet avec suppression de l'existant\n",
    "    user_stats_df.write.mode(\"overwrite\").parquet(\"./data/user_stats_df_output.parquet\")"
   ]
  },
  {
   "cell_type": "code",
   "execution_count": 23,
   "metadata": {},
   "outputs": [
    {
     "name": "stderr",
     "output_type": "stream",
     "text": [
      "                                                                                \r"
     ]
    },
    {
     "name": "stdout",
     "output_type": "stream",
     "text": [
      "+---------+------------------+------------------+---------------------+-----------------+------------+------------------+------------------+---------------------+-----------------+------------+------------------+------------------+---------------------+-----------------+------------+-------------------+------------------------+--------------------+-----------------+---------------+--------------------+----------------+---------------+\n",
      "|  user_id|number_of_views_2m|number_of_carts_2m|number_of_sessions_2m|count_products_2m|avg_price_2m|number_of_views_5m|number_of_carts_5m|number_of_sessions_5m|count_products_5m|avg_price_5m|number_of_views_7m|number_of_carts_7m|number_of_sessions_7m|count_products_7m|avg_price_7m|      last_purchase|days_since_last_purchase|total_purchase_value|cart_abandonments|preferred_brand|  preferred_category|most_active_time|most_active_day|\n",
      "+---------+------------------+------------------+---------------------+-----------------+------------+------------------+------------------+---------------------+-----------------+------------+------------------+------------------+---------------------+-----------------+------------+-------------------+------------------------+--------------------+-----------------+---------------+--------------------+----------------+---------------+\n",
      "|359242441|                75|                 4|                    9|                1|       56.63|                75|                 4|                    9|                1|       56.63|                75|                 4|                    9|                1|       56.63|2020-04-11 08:08:14|                      19|               56.63|                3|        tp-link|furniture.kitchen...|         morning|       vendredi|\n",
      "|438263431|               138|                 4|                   46|                3|        81.7|               324|                 5|                  123|                4|      173.74|               331|                 5|                  128|                4|      173.74|2020-04-19 18:41:51|                      11|              694.95|                1|       aerocool|                NULL|       afternoon|         samedi|\n",
      "|469107971|                 2|                 1|                    1|                1|       229.5|                 2|                 1|                    1|                1|       229.5|                 2|                 1|                    1|                1|       229.5|2020-04-25 13:48:42|                       5|               229.5|                0|           NULL|                NULL|       afternoon|         samedi|\n",
      "|472393541|                 4|                 1|                    2|                1|      408.66|                 9|                 1|                    4|                1|      408.66|                 9|                 1|                    4|                1|      408.66|2020-03-17 10:00:04|                      44|              408.66|                0|          apple|construction.tool...|         morning|          mardi|\n",
      "|478219391|                16|                 8|                    4|                1|      254.58|                28|                 9|                    6|                1|      254.58|                29|                 9|                    7|                1|      254.58|2020-04-24 12:47:54|                       6|              254.58|                8|        samsung|apparel.shoes.sli...|         morning|          lundi|\n",
      "|480165611|                 6|                 2|                    5|                2|      257.77|                92|                 6|                   52|                4|       209.9|               102|                 7|                   59|                4|       209.9|2020-04-06 05:53:00|                      24|              839.61|                3|         orient|  electronics.clocks|           night|          jeudi|\n",
      "|487774501|                 3|                 1|                    1|                1|      241.84|                 4|                 1|                    2|                1|      241.84|                 5|                 1|                    3|                1|      241.84|2020-03-03 18:33:01|                      58|              241.84|                0|        samsung|construction.tool...|         evening|          mardi|\n",
      "|490293331|               101|                21|                   90|               16|      895.48|               997|                76|                  716|               58|      736.92|              1061|                83|                  775|               66|      755.97|2020-03-18 06:07:43|                      43|            49894.18|               17|           sony|appliances.person...|           night|          lundi|\n",
      "|493917651|                 4|                 1|                    1|                1|       359.6|                15|                 1|                    8|                1|       359.6|                15|                 1|                    8|                1|       359.6|2020-03-24 17:56:30|                      37|               359.6|                0|        samsung|construction.tool...|         morning|          mardi|\n",
      "|495221371|                30|                 4|                    5|                1|      115.81|               179|                 6|                   30|                1|      115.81|               179|                 6|                   30|                1|      115.81|2020-03-03 06:40:34|                      58|              115.81|                5|        karcher|appliances.enviro...|         morning|          mardi|\n",
      "|497578671|                 5|                 1|                    3|                1|        49.4|                 5|                 1|                    3|                1|        49.4|                 5|                 1|                    3|                1|        49.4|2020-03-04 05:15:42|                      57|                49.4|                0|         nokian|                NULL|         morning|       mercredi|\n",
      "|498380681|                85|                 2|                   28|                1|       54.06|               168|                 6|                   73|                1|       54.06|               175|                 6|                   77|                1|       54.06|2020-03-26 08:35:56|                      35|               54.06|                5|       cordiant|                NULL|       afternoon|          jeudi|\n",
      "|501168231|                 3|                 1|                    1|                1|       53.41|                 5|                 1|                    2|                1|       53.41|                25|                 1|                    7|                2|       54.22|2020-03-10 04:02:23|                      51|              108.43|                0|            dwt|                NULL|           night|          mardi|\n",
      "|512360471|               323|                 6|                   10|                4|      202.39|               324|                 6|                   11|                4|      202.39|               324|                 6|                   11|                4|      202.39|2020-04-14 07:43:05|                      16|              809.54|                2|         huawei|construction.tool...|         morning|          mardi|\n",
      "|512363741|               129|                 6|                   16|                1|      185.82|               454|                27|                   71|                4|      288.35|               672|                27|                  100|                5|      239.07|2020-03-07 06:38:49|                      54|             1195.36|               22|           NULL|                NULL|         morning|       dimanche|\n",
      "|512364671|                47|                 2|                    9|                1|      190.42|                72|                 4|                   12|                2|      121.41|               175|                 5|                   21|                2|      121.41|2020-04-28 10:53:54|                       2|              242.82|                3|           NULL|construction.tool...|         morning|          mardi|\n",
      "|512368481|                46|                10|                   16|                3|     1400.27|                82|                10|                   30|                3|     1400.27|                96|                11|                   35|                4|     1090.18|2020-03-04 17:37:11|                      57|             4360.72|                7|           asus|electronics.audio...|         morning|          lundi|\n",
      "|512369671|                98|                 4|                   13|                2|        8.77|                98|                 4|                   13|                2|        8.77|               104|                 4|                   14|                2|        8.77|2020-04-22 17:59:02|                       8|               17.54|                2|         canyon|furniture.kitchen...|       afternoon|       mercredi|\n",
      "|512371641|                27|                 2|                    8|                1|     1749.85|                37|                 2|                   15|                1|     1749.85|                51|                 3|                   23|                2|       926.4|2020-04-29 17:14:31|                       1|             1852.79|                1|          apple|construction.tool...|       afternoon|       mercredi|\n",
      "|512372691|                24|                 9|                    8|                8|      130.12|                63|                16|                   15|               15|      170.65|                85|                21|                   21|               20|      156.87|2020-04-27 14:34:00|                       3|             3137.49|                1|        samsung|                NULL|         morning|       dimanche|\n",
      "+---------+------------------+------------------+---------------------+-----------------+------------+------------------+------------------+---------------------+-----------------+------------+------------------+------------------+---------------------+-----------------+------------+-------------------+------------------------+--------------------+-----------------+---------------+--------------------+----------------+---------------+\n",
      "only showing top 20 rows\n",
      "\n"
     ]
    },
    {
     "name": "stderr",
     "output_type": "stream",
     "text": [
      "                                                                                \r"
     ]
    }
   ],
   "source": [
    "\n",
    "# Exécuter le script principal\n",
    "if __name__ == \"__main__\":\n",
    "    main()\n"
   ]
  },
  {
   "cell_type": "code",
   "execution_count": null,
   "metadata": {},
   "outputs": [],
   "source": []
  }
 ],
 "metadata": {
  "kernelspec": {
   "display_name": "Python 3 (ipykernel)",
   "language": "python",
   "name": "python3"
  },
  "language_info": {
   "codemirror_mode": {
    "name": "ipython",
    "version": 3
   },
   "file_extension": ".py",
   "mimetype": "text/x-python",
   "name": "python",
   "nbconvert_exporter": "python",
   "pygments_lexer": "ipython3",
   "version": "3.9.2"
  }
 },
 "nbformat": 4,
 "nbformat_minor": 2
}
